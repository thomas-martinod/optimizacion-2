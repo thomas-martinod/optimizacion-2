{
  "nbformat": 4,
  "nbformat_minor": 0,
  "metadata": {
    "colab": {
      "provenance": []
    },
    "kernelspec": {
      "name": "python3",
      "display_name": "Python 3"
    },
    "language_info": {
      "name": "python"
    }
  },
  "cells": [
    {
      "cell_type": "code",
      "source": [
        "# Importe de librerías\n",
        "from sympy import *\n",
        "from sympy.physics.mechanics import *\n",
        "init_vprinting(pretty_print=True)\n",
        "from sympy.solvers.ode.systems import dsolve_system"
      ],
      "metadata": {
        "id": "XweDYeHqFvLC"
      },
      "execution_count": 244,
      "outputs": []
    },
    {
      "cell_type": "markdown",
      "source": [
        "## Problema 2\n",
        "Calcular el valor de las variables de control, de estado y coestado para los que se verifica el principio del máximo de Pontryagin en el siguiente problema.\n",
        "\n",
        "\\begin{equation}\n",
        "    \\begin{split}\n",
        "        \\min J(x) = & \\int_0^2 (u^2 + 12u + 8x)\\, dt \\\\\n",
        "    \\text{sujeto a : } & \\,\\, \\dot{x} = 2x + 3u\\\\\n",
        "    \\text{con : } & \\,\\, x(0) = 5\\\\\n",
        "    & \\,\\, 0 \\leq u \\leq 1\n",
        "    \\end{split}\n",
        "\\end{equation}\n",
        "\n",
        "Inicialmente, se definen la variable independiente $t$, las funciones $x,u:\\mathbb{R}^1 → \\mathbb{R}$ y el integrando del funcional objetivo en forma de Lagrange $F = F(x,u,t) = u^2+12u+8x$. Además, se crean variables para las derivadas de $x$, y se declara la función de restricción $f = f(x,u,t) = 2x+3u$."
      ],
      "metadata": {
        "id": "3UDC26ce8eks"
      }
    },
    {
      "cell_type": "code",
      "source": [
        "# Se declara la variable independiente t\n",
        "t = Symbol('t')\n",
        "\n",
        "# La variable de estado x y la variable de control u son funciones de t\n",
        "x = Function('x')(t)\n",
        "u = Function('u')(t)\n",
        "\n",
        "# Se definen el integrando de la función objetivo y la función de restricción\n",
        "F = u**2 + 12*u + 8*x\n",
        "f = 2*x + 3*u\n",
        "\n",
        "# Se declaran las derivadas de x(t)\n",
        "dx = diff(x, t)\n",
        "d2x = diff(dx, t)\n",
        "\n",
        "# Se enseña F(x,u,t)\n",
        "F"
      ],
      "metadata": {
        "colab": {
          "base_uri": "https://localhost:8080/",
          "height": 39
        },
        "id": "cVOCtTEH9Gz_",
        "outputId": "e382a7c8-f882-4791-eb9f-e91acc263b19"
      },
      "execution_count": 245,
      "outputs": [
        {
          "output_type": "execute_result",
          "data": {
            "text/plain": [
              " 2             \n",
              "u  + 12⋅u + 8⋅x"
            ],
            "text/latex": "$\\displaystyle u^{2} + 12 u + 8 x$"
          },
          "metadata": {},
          "execution_count": 245
        }
      ]
    },
    {
      "cell_type": "markdown",
      "source": [
        "Inicialmente, se define el hamiltoniano del sistema como:\n",
        "\n",
        "\\begin{align*}\n",
        "H = H(x,u,λ,t) = F + λf\n",
        "\\end{align*}\n",
        "\n",
        "donde $λ: \\mathbb{R}^1 → \\mathbb{R}$ es también una función de $t$."
      ],
      "metadata": {
        "id": "E2Y-Rk8HHg6W"
      }
    },
    {
      "cell_type": "code",
      "source": [
        "# Se declara el multiplicador lambda del principio del máximo\n",
        "lam = Function('lambda')(t)\n",
        "\n",
        "# Se calcula el hamiltoniano como se enseña arriba\n",
        "H = F + lam*f\n",
        "\n",
        "# Se expone el hamiltoniano del sistema\n",
        "H"
      ],
      "metadata": {
        "colab": {
          "base_uri": "https://localhost:8080/",
          "height": 39
        },
        "id": "0Oz8VvN19n-n",
        "outputId": "fac9f268-7f05-4f95-e9e4-ce36e92611db"
      },
      "execution_count": 246,
      "outputs": [
        {
          "output_type": "execute_result",
          "data": {
            "text/plain": [
              "                 2             \n",
              "(3⋅u + 2⋅x)⋅λ + u  + 12⋅u + 8⋅x"
            ],
            "text/latex": "$\\displaystyle \\left(3 u + 2 x\\right) \\lambda + u^{2} + 12 u + 8 x$"
          },
          "metadata": {},
          "execution_count": 246
        }
      ]
    },
    {
      "cell_type": "markdown",
      "source": [
        "Ahora, se emplea la condición $(1)$ del principio del máximo:\n",
        "\n",
        "\\begin{align*}\n",
        "\\dot{λ} = - \\frac{\\partial H}{∂ x}\n",
        "\\end{align*}\n",
        "\n",
        "en conjunto con la condición inicial de la EDO anterior:\n",
        "\n",
        "\\begin{align*}\n",
        "\\lambda(2) = \\frac{d}{dx}S(x^*(1)) = \\frac{d}{dx}(0) = 0\n",
        "\\end{align*}\n",
        "\n",
        "La condición de frontera es nula, dado que el problema está escrito en forma de Lagrange."
      ],
      "metadata": {
        "id": "SFRAQjiJJDUg"
      }
    },
    {
      "cell_type": "code",
      "source": [
        "# Se define la primera derivada temporal de lam\n",
        "dlam = diff(lam, t)\n",
        "\n",
        "# Se establece la ecuación diferencial de la condición (1)\n",
        "eq1 = Eq(dlam, -diff(H,x))\n",
        "eq1"
      ],
      "metadata": {
        "colab": {
          "base_uri": "https://localhost:8080/",
          "height": 39
        },
        "id": "AmO80VTG9tee",
        "outputId": "66f07368-e22c-4330-9a0f-3b3db84bc8c1"
      },
      "execution_count": 247,
      "outputs": [
        {
          "output_type": "execute_result",
          "data": {
            "text/plain": [
              "λ̇ = -2⋅λ - 8"
            ],
            "text/latex": "$\\displaystyle \\dot{\\lambda} = - 2 \\lambda - 8$"
          },
          "metadata": {},
          "execution_count": 247
        }
      ]
    },
    {
      "cell_type": "code",
      "source": [
        "# Se crea un diccionario con la condición inicial de la EDO λ(2) = 0\n",
        "ics1 = {lam.subs(t,2) : 0}\n",
        "display(ics1)"
      ],
      "metadata": {
        "colab": {
          "base_uri": "https://localhost:8080/",
          "height": 39
        },
        "id": "dl_X6cgp-RkF",
        "outputId": "4e194a9c-bb00-4e03-efc4-c6a775bc706b"
      },
      "execution_count": 248,
      "outputs": [
        {
          "output_type": "display_data",
          "data": {
            "text/plain": [
              "{λ(2): 0}"
            ],
            "text/latex": "$\\displaystyle \\left\\{ \\lambda{\\left(2 \\right)} : 0\\right\\}$"
          },
          "metadata": {}
        }
      ]
    },
    {
      "cell_type": "code",
      "source": [
        "# Se resuelve la EDO anterior empleando el dsolve de Sympy, con las condiciones iniciales de ics1\n",
        "sln_eq1 = dsolve_system([eq1], ics=ics1)\n",
        "sln_lam = sln_eq1[0][0].doit()\n",
        "sln_lam"
      ],
      "metadata": {
        "colab": {
          "base_uri": "https://localhost:8080/",
          "height": 299
        },
        "id": "RKpWXWjaK8il",
        "outputId": "8edc3dc6-46db-4793-81ef-438d7fbc92c1"
      },
      "execution_count": 249,
      "outputs": [
        {
          "output_type": "stream",
          "name": "stderr",
          "text": [
            "/usr/local/lib/python3.10/dist-packages/sympy/simplify/radsimp.py:1131: SymPyDeprecationWarning: \n",
            "\n",
            "Using non-Expr arguments in Mul is deprecated (in this case, one of\n",
            "the arguments has type 'Tuple').\n",
            "\n",
            "If you really did intend to use a multiplication or addition operation with\n",
            "this object, use the * or + operator instead.\n",
            "\n",
            "See https://docs.sympy.org/latest/explanation/active-deprecations.html#non-expr-args-deprecated\n",
            "for details.\n",
            "\n",
            "This has been deprecated since SymPy version 1.7. It\n",
            "will be removed in a future version of SymPy.\n",
            "\n",
            "  return Mul(*numer, evaluate=not exact), Mul(*denom, evaluate=not exact)\n"
          ]
        },
        {
          "output_type": "execute_result",
          "data": {
            "text/plain": [
              "            4  -2⋅t\n",
              "λ = -4 + 4⋅ℯ ⋅ℯ    "
            ],
            "text/latex": "$\\displaystyle \\lambda = -4 + 4 e^{4} e^{- 2 t}$"
          },
          "metadata": {},
          "execution_count": 249
        }
      ]
    },
    {
      "cell_type": "markdown",
      "source": [
        "Así, con la condición $(1)$ del principio del máximo y resolviendo la EDO lineal, se halló $\\lambda^*$, la función multiplicadora óptima como:\n",
        "\n",
        "\\begin{align*}\n",
        "\\lambda^*(t) = -4 + 4e^4e^{-2t}\n",
        "\\end{align*}\n",
        "\n",
        "A continuación, se debe usar la condición $(2)$ del principio del máximo. Para ello hay que calcular:\n",
        "\n",
        "\\begin{align*}\n",
        "\\min_u H(x^*,u,\\lambda^*,t)\n",
        "\\end{align*}\n",
        "\n",
        "donde $u$ se encuentra irrestricta.\n",
        "\n",
        "Como se trata de una función univariada que se debe optimizar sin restricciones, se debe cumplir que:\n",
        "\n",
        "\\begin{align*}\n",
        "\\frac{∂H}{∂u} = 0, \\qquad \\frac{∂^2H}{∂u^2} > 0\n",
        "\\end{align*}\n",
        "\n",
        "que son las condiciones de primer y segundo orden para hallar un mínimo global."
      ],
      "metadata": {
        "id": "TlG97518LlML"
      }
    },
    {
      "cell_type": "code",
      "source": [
        "# Se establece la condición de primer orden para minimuzar H\n",
        "eq2 = Eq(diff(H,u), 0)\n",
        "eq2"
      ],
      "metadata": {
        "colab": {
          "base_uri": "https://localhost:8080/",
          "height": 39
        },
        "id": "CnOB7rIIBC4f",
        "outputId": "c0d5845b-973f-4ee1-acb5-d7fe9337fb04"
      },
      "execution_count": 250,
      "outputs": [
        {
          "output_type": "execute_result",
          "data": {
            "text/plain": [
              "3⋅λ + 2⋅u + 12 = 0"
            ],
            "text/latex": "$\\displaystyle 3 \\lambda + 2 u + 12 = 0$"
          },
          "metadata": {},
          "execution_count": 250
        }
      ]
    },
    {
      "cell_type": "code",
      "source": [
        "# Despejando u de la ecuación anterior, se obtiene:\n",
        "aux_u = solve([eq2], (u))\n",
        "eq3 = Eq(u, aux_u[u])\n",
        "eq3"
      ],
      "metadata": {
        "colab": {
          "base_uri": "https://localhost:8080/",
          "height": 52
        },
        "id": "4-ix4uyeNcjD",
        "outputId": "b00a3953-a6ab-42b9-a161-bc1856e06a4b"
      },
      "execution_count": 251,
      "outputs": [
        {
          "output_type": "execute_result",
          "data": {
            "text/plain": [
              "      3⋅λ    \n",
              "u = - ─── - 6\n",
              "       2     "
            ],
            "text/latex": "$\\displaystyle u = - \\frac{3 \\lambda}{2} - 6$"
          },
          "metadata": {},
          "execution_count": 251
        }
      ]
    },
    {
      "cell_type": "code",
      "source": [
        "# Y reemplazando el lambda óptimo λ* hallado en la parte anterior se obtiene:\n",
        "sln_u = eq3.subs({lam: sln_lam.rhs})\n",
        "sln_u"
      ],
      "metadata": {
        "colab": {
          "base_uri": "https://localhost:8080/",
          "height": 39
        },
        "id": "hwExIsRCBMm1",
        "outputId": "e6e30b49-bdfd-4eb2-9d9b-b44533482efd"
      },
      "execution_count": 252,
      "outputs": [
        {
          "output_type": "execute_result",
          "data": {
            "text/plain": [
              "        4  -2⋅t\n",
              "u = -6⋅ℯ ⋅ℯ    "
            ],
            "text/latex": "$\\displaystyle u = - 6 e^{4} e^{- 2 t}$"
          },
          "metadata": {},
          "execution_count": 252
        }
      ]
    },
    {
      "cell_type": "markdown",
      "source": [
        "Usando $\\frac{∂H}{∂u} = 0$, se obtuvo que la única función que satisface las condiciones de primer orden es:\n",
        "\n",
        "\\begin{align*}\n",
        "u=-6e^4e^{-2t}\n",
        "\\end{align*}\n",
        "\n",
        "veamos si esta corresponde a un máximo o a un mínimo derivando de nuevo el hamiltoniano.\n"
      ],
      "metadata": {
        "id": "RWzYYfbWO1fB"
      }
    },
    {
      "cell_type": "code",
      "source": [
        "# Derivando dos veces el hamiltoniano con respecto a u se obtiene:\n",
        "diff(diff(H,u),u)"
      ],
      "metadata": {
        "colab": {
          "base_uri": "https://localhost:8080/",
          "height": 37
        },
        "id": "V2A7hS9uBMq0",
        "outputId": "a1165058-fb5a-46da-a076-7fa2d48d0d3e"
      },
      "execution_count": 253,
      "outputs": [
        {
          "output_type": "execute_result",
          "data": {
            "text/plain": [
              "2"
            ],
            "text/latex": "$\\displaystyle 2$"
          },
          "metadata": {},
          "execution_count": 253
        }
      ]
    },
    {
      "cell_type": "markdown",
      "source": [
        "De esta forma $\\frac{\\partial^2 H}{\\partial u^2} = 2 > 0$ (mínimo), por lo que $u^*(t) = -6e^4e^{-2t}$ es la función de control óptima $∀t ∈ [0,2]$.\n",
        "\n",
        "Ahora, se debe usar la condición $(3)$ del principio del máximo que corresponde a resolver la EDO contemplada en la restricción del problema:\n",
        "\n",
        "\\begin{align*}\n",
        "\\dot{x}^* = f(x^*, u^*,t)\n",
        "\\end{align*}\n",
        "\n",
        "sujeta a la condición inicial $x(0)=5$."
      ],
      "metadata": {
        "id": "smA7ApEHPcNS"
      }
    },
    {
      "cell_type": "code",
      "source": [
        "# Se establece la EDO de la restricción\n",
        "eq4 = Eq(dx, f)\n",
        "eq4"
      ],
      "metadata": {
        "colab": {
          "base_uri": "https://localhost:8080/",
          "height": 39
        },
        "id": "s5NnvwiIBsjq",
        "outputId": "1d9ab879-9404-41ad-83f6-4b3f380bcf81"
      },
      "execution_count": 254,
      "outputs": [
        {
          "output_type": "execute_result",
          "data": {
            "text/plain": [
              "ẋ = 3⋅u + 2⋅x"
            ],
            "text/latex": "$\\displaystyle \\dot{x} = 3 u + 2 x$"
          },
          "metadata": {},
          "execution_count": 254
        }
      ]
    },
    {
      "cell_type": "code",
      "source": [
        "# Se sustituye la u* hallada con la condición anterior\n",
        "eq5 = eq4.subs({u: sln_u.rhs})\n",
        "eq5"
      ],
      "metadata": {
        "colab": {
          "base_uri": "https://localhost:8080/",
          "height": 39
        },
        "id": "5naTTYNuTgM5",
        "outputId": "0ae34c9b-398c-432a-9664-c1345ffeadbc"
      },
      "execution_count": 255,
      "outputs": [
        {
          "output_type": "execute_result",
          "data": {
            "text/plain": [
              "              4  -2⋅t\n",
              "ẋ = 2⋅x - 18⋅ℯ ⋅ℯ    "
            ],
            "text/latex": "$\\displaystyle \\dot{x} = 2 x - 18 e^{4} e^{- 2 t}$"
          },
          "metadata": {},
          "execution_count": 255
        }
      ]
    },
    {
      "cell_type": "code",
      "source": [
        "# Se escriben las condiciones iniciales para la ecuación lineal anterior\n",
        "ics2 = {x.subs(t,0) : 5}\n",
        "ics2"
      ],
      "metadata": {
        "colab": {
          "base_uri": "https://localhost:8080/",
          "height": 39
        },
        "id": "TEkHAcbJC7Fn",
        "outputId": "a2ad97e3-6af5-45da-e3f3-aea130c98926"
      },
      "execution_count": 256,
      "outputs": [
        {
          "output_type": "execute_result",
          "data": {
            "text/plain": [
              "{x(0): 5}"
            ],
            "text/latex": "$\\displaystyle \\left\\{ x{\\left(0 \\right)} : 5\\right\\}$"
          },
          "metadata": {},
          "execution_count": 256
        }
      ]
    },
    {
      "cell_type": "code",
      "source": [
        "# Se resuelve la EDO lineal eq5 con las condiciones iniciales ics2\n",
        "eqx = dsolve_system([eq5], ics=ics2)\n",
        "sln_x = eqx[0][0].doit().simplify()\n",
        "sln_x"
      ],
      "metadata": {
        "colab": {
          "base_uri": "https://localhost:8080/",
          "height": 56
        },
        "id": "JxH4gefjUCKV",
        "outputId": "eeccb1d0-f03c-48b8-875b-829fc6e408a6"
      },
      "execution_count": 257,
      "outputs": [
        {
          "output_type": "execute_result",
          "data": {
            "text/plain": [
              "    ⎛⎛        4⎞  4⋅t      4⎞  -2⋅t\n",
              "    ⎝⎝10 - 9⋅ℯ ⎠⋅ℯ    + 9⋅ℯ ⎠⋅ℯ    \n",
              "x = ───────────────────────────────\n",
              "                   2               "
            ],
            "text/latex": "$\\displaystyle x = \\frac{\\left(\\left(10 - 9 e^{4}\\right) e^{4 t} + 9 e^{4}\\right) e^{- 2 t}}{2}$"
          },
          "metadata": {},
          "execution_count": 257
        }
      ]
    },
    {
      "cell_type": "code",
      "source": [
        "print(latex(sln_x))"
      ],
      "metadata": {
        "colab": {
          "base_uri": "https://localhost:8080/"
        },
        "id": "1cQHpqcodJgB",
        "outputId": "88c5db16-eb9b-445e-d271-bce3e9e1fea1"
      },
      "execution_count": 258,
      "outputs": [
        {
          "output_type": "stream",
          "name": "stdout",
          "text": [
            "x{\\left(t \\right)} = \\frac{\\left(\\left(10 - 9 e^{4}\\right) e^{4 t} + 9 e^{4}\\right) e^{- 2 t}}{2}\n"
          ]
        }
      ]
    },
    {
      "cell_type": "markdown",
      "source": [
        "Finalmente, la variable de estado $x^*$ que minimiza el funcional objetivo $J$ es:\n",
        "\n",
        "\\begin{align*}\n",
        "x{\\left(t \\right)} = \\frac{\\left(\\left(10 - 9 e^{4}\\right) e^{4 t} + 9 e^{4}\\right) e^{- 2 t}}{2}\n",
        "\\end{align*}\n"
      ],
      "metadata": {
        "id": "xSIIG_4acm5x"
      }
    },
    {
      "cell_type": "markdown",
      "source": [
        "## Problema 3\n",
        "\n",
        "Obtener las funciones que verifiquen las condiciones necesarias de primer y segundo orden de máximo o mínimo local del siguiente problema:\n",
        "\n",
        "\\begin{align*}\n",
        "J(x) & = \\int_0^4(a\\dot{x}^2 + bx + ct) \\, dt \\,, \\qquad a,b,c \\in \\mathbb{R}, \\,a\\neq 0\\\\\n",
        "\\text{con :} & \\quad x(0) = 2, \\, x(4)=4\n",
        "\\end{align*}\n",
        "\n",
        "Al igual que en el problema anterior, inicialmente se definen $t$ y $x$, además de las constantes $a,b$ y $c$. Además, se define el integrando del funcional $J$, $F = F(x,u,t)$. El problema no es de control en el dominio del tiempo, sino que se trata de las condiciones necesarias de optimalidad en un problema de control estático."
      ],
      "metadata": {
        "id": "5dAGXILemwVr"
      }
    },
    {
      "cell_type": "code",
      "execution_count": 259,
      "metadata": {
        "id": "rUjW7YlyZDpc",
        "colab": {
          "base_uri": "https://localhost:8080/",
          "height": 39
        },
        "outputId": "cc2fb9ee-51cd-4f1f-890d-2f2adcf750db"
      },
      "outputs": [
        {
          "output_type": "execute_result",
          "data": {
            "text/plain": [
              "   2            \n",
              "a⋅ẋ  + b⋅x + c⋅t"
            ],
            "text/latex": "$\\displaystyle a \\dot{x}^{2} + b x + c t$"
          },
          "metadata": {},
          "execution_count": 259
        }
      ],
      "source": [
        "# Se define la variable independiente t\n",
        "t = Symbol('t')\n",
        "\n",
        "# Se define la trayectoria x(t)\n",
        "x = Function('x')(t)\n",
        "\n",
        "# Se declaran los símbolos a,b,c y las derivadas temporales de x\n",
        "a, b, c = symbols('a, b, c')\n",
        "dx = diff(x,t)\n",
        "d2x = diff(dx, t)\n",
        "\n",
        "# Definimos el integrando del funcional objetivo\n",
        "F = a*dx**2 + b*x + c*t\n",
        "\n",
        "# Se imprime F\n",
        "F"
      ]
    },
    {
      "cell_type": "markdown",
      "source": [
        "Inicialmente se verifican las condiciones de primer orden (optimalidad), mediante el uso de la ecuación de Euler.\n",
        "\n",
        "\\begin{align*}\n",
        "\\frac{\\partial F}{\\partial x} - \\frac{d}{dt} \\left(\\frac{\\partial F}{\\partial \\dot{x}}\\right) = 0\n",
        "\\end{align*}"
      ],
      "metadata": {
        "id": "kljaLefpqSyf"
      }
    },
    {
      "cell_type": "code",
      "source": [
        "# Se establece y enseña la ecuación de Euler luego de hacer todas las derivadas\n",
        "eq_euler = Eq(diff(F,x) - diff(diff(F, dx), t), 0)\n",
        "eq_euler"
      ],
      "metadata": {
        "id": "vnhLXAHlp6Bh",
        "colab": {
          "base_uri": "https://localhost:8080/",
          "height": 39
        },
        "outputId": "30fba76d-58a7-4fc5-fde9-6d2238736930"
      },
      "execution_count": 260,
      "outputs": [
        {
          "output_type": "execute_result",
          "data": {
            "text/plain": [
              "-2⋅a⋅ẍ + b = 0"
            ],
            "text/latex": "$\\displaystyle - 2 a \\ddot{x} + b = 0$"
          },
          "metadata": {},
          "execution_count": 260
        }
      ]
    },
    {
      "cell_type": "markdown",
      "source": [
        "Luego, se obtiene la EDO de segundo orden:\n",
        "\n",
        "\\begin{align}\n",
        "-2a\\ddot{x} + b = 0\n",
        "\\end{align}\n",
        "\n",
        "con las condiciones de frontera:\n",
        "\n",
        "\\begin{align*}\n",
        "x(0) = 2, \\, x(4)=4\n",
        "\\end{align*}\n",
        "\n",
        "Por el teorema de existencia y unicidad, este problema tiene solución única. Esta es hallada mediante método dsolve de Sympy."
      ],
      "metadata": {
        "id": "dtc5l4gf3R_0"
      }
    },
    {
      "cell_type": "code",
      "source": [
        "# Primero establecemos las condiciones de contorno\n",
        "jcs1 = {x.subs(t,0) : 2, x.subs(t,4) : 4}\n",
        "jcs1"
      ],
      "metadata": {
        "id": "mnxf7kSJr3US",
        "colab": {
          "base_uri": "https://localhost:8080/",
          "height": 39
        },
        "outputId": "807046a3-1069-452b-9a74-9540c3f8162c"
      },
      "execution_count": 261,
      "outputs": [
        {
          "output_type": "execute_result",
          "data": {
            "text/plain": [
              "{x(0): 2, x(4): 4}"
            ],
            "text/latex": "$\\displaystyle \\left\\{ x{\\left(0 \\right)} : 2, \\  x{\\left(4 \\right)} : 4\\right\\}$"
          },
          "metadata": {},
          "execution_count": 261
        }
      ]
    },
    {
      "cell_type": "code",
      "source": [
        "# Luego\n",
        "eqx2 = dsolve_system([eq_euler], ics=jcs1)\n",
        "sln_x2 = eqx2[0][0].doit().simplify()\n",
        "sln_x2"
      ],
      "metadata": {
        "colab": {
          "base_uri": "https://localhost:8080/",
          "height": 54
        },
        "id": "iyF77NIs4YD4",
        "outputId": "64eec0fe-e434-492b-fcc4-c58e170550a5"
      },
      "execution_count": 262,
      "outputs": [
        {
          "output_type": "execute_result",
          "data": {
            "text/plain": [
              "               2      \n",
              "    t       b⋅t    b⋅t\n",
              "x = ─ + 2 + ──── - ───\n",
              "    2       4⋅a     a "
            ],
            "text/latex": "$\\displaystyle x = \\frac{t}{2} + 2 + \\frac{b t^{2}}{4 a} - \\frac{b t}{a}$"
          },
          "metadata": {},
          "execution_count": 262
        }
      ]
    },
    {
      "cell_type": "markdown",
      "source": [
        "Luego, la función\n",
        "\n",
        "\\begin{align}\n",
        "x^*{\\left(t \\right)} = \\frac{t}{2} + 2 + \\frac{b t^{2}}{4 a} - \\frac{b t}{a}\n",
        "\\end{align}\n",
        "\n",
        "es la única $x \\in \\Omega$ que satisface la condición de primer orden. Falta analizar si esta función es un máximo o un mínimo para el problema 3.\n",
        "\n",
        "Para ver esta diferenciación, usamos el criterio de Laguerre, o las condiciones de segundo orden, que indican que:\n",
        "\n",
        "\\begin{align}\n",
        "\\frac{∂^2F}{∂\\dot{x}^2} >0 \\quad \\implies \\quad x=x^*(t)\\text{ es un mínimo local del problema}\\\\\n",
        "\\frac{∂^2F}{∂\\dot{x}^2} >0 \\quad \\implies \\quad x=x^*(t)\\text{ es un máximo local del problema}\n",
        "\\end{align}\n",
        "\n",
        "Entonces, derivando $F$ dos veces con respecto a la derivada de la coordenada generalizada $x$ se obtiene."
      ],
      "metadata": {
        "id": "mP3Fa6TA40hV"
      }
    },
    {
      "cell_type": "code",
      "source": [
        "# Derivando dos veces F con respecto a dot{x}:\n",
        "d2F = diff(diff(F,dx), dx)\n",
        "d2F"
      ],
      "metadata": {
        "id": "hNc2DUeHCYDh",
        "colab": {
          "base_uri": "https://localhost:8080/",
          "height": 39
        },
        "outputId": "ee0d30e6-7cae-4186-f091-34d1651496ce"
      },
      "execution_count": 263,
      "outputs": [
        {
          "output_type": "execute_result",
          "data": {
            "text/plain": [
              "2⋅a"
            ],
            "text/latex": "$\\displaystyle 2 a$"
          },
          "metadata": {},
          "execution_count": 263
        }
      ]
    },
    {
      "cell_type": "markdown",
      "source": [
        "Se obtuvo que $∀x \\in \\Omega$, $\\frac{∂^2F}{∂\\dot{x}^2} = 2a$. Luego, se obtiene este resultado también para $x^*$.\n",
        "\n",
        "Entonces, según la condición de Laguerre, $x^*(t)$ es un máximo del problema 3 siempre que $a <0$. Por el contrario, $x^*(t)$ es un mínimo del problema 3 siempre que $a >0$."
      ],
      "metadata": {
        "id": "qGgQAKvh6365"
      }
    },
    {
      "cell_type": "markdown",
      "source": [
        "## Problema 4\n",
        "Calcular el valor de las variables de control, de estado y coestado para los que se verifica el principio del máximo de Pontryagin en el siguiente problema.\n",
        "\n",
        "\\begin{align*}\n",
        "  \\max J(x) & = \\int_1^5 (ux-u^2-x^2) \\, dt\\\\\n",
        "  \\text{sujeto a } & :\\quad \\dot{x} = x+u\\\\\n",
        "  \\text{con } & : \\quad x(1) = 2\n",
        "\\end{align*}"
      ],
      "metadata": {
        "id": "A4md2dlbDTn9"
      }
    },
    {
      "cell_type": "markdown",
      "source": [
        "Al igual que en el problema 2, se definen la variable independiente $t$, las funciones $x=x(t), u=u(t)$ y el integrando del funcional objetivo en forma de Lagrange $F = F(x,u,t) = ux-u^2-x^2$. Además, se crean variables para las derivadas de $x$ y se declara la función de restricción $f = f(x,u,t) = x+u$."
      ],
      "metadata": {
        "id": "UeAesqASEw9L"
      }
    },
    {
      "cell_type": "code",
      "source": [
        "# Se declara la variable independiente t\n",
        "t = Symbol('t')\n",
        "\n",
        "# Se declaran x=x(t), u=u(t)\n",
        "x = Function('x')(t)\n",
        "u = Function('u')(t)\n",
        "\n",
        "# Se define el integrando del funcional objetivo (forma de Lagrange)\n",
        "F = u*x - u**2 - x**2\n",
        "\n",
        "# Se crean variables para las derivadas de x y se define la restricción f\n",
        "dx = diff(x, t)\n",
        "d2x = diff(dx, t)\n",
        "f = x + u\n",
        "\n",
        "# Se imprime el integrando del funcional objetivo F\n",
        "F"
      ],
      "metadata": {
        "id": "r-SUIpThE0SJ",
        "colab": {
          "base_uri": "https://localhost:8080/",
          "height": 39
        },
        "outputId": "6de11380-f1d1-4094-f3dd-92392ffaf586"
      },
      "execution_count": 264,
      "outputs": [
        {
          "output_type": "execute_result",
          "data": {
            "text/plain": [
              "   2          2\n",
              "- u  + u⋅x - x "
            ],
            "text/latex": "$\\displaystyle - u^{2} + u x - x^{2}$"
          },
          "metadata": {},
          "execution_count": 264
        }
      ]
    },
    {
      "cell_type": "markdown",
      "source": [
        "El siguiente paso es definir el hamiltoniano del sistema como:\n",
        "\n",
        "\\begin{align*}\n",
        "H = H(x,u,λ,t) = F + λf\n",
        "\\end{align*}\n",
        "\n",
        "donde $λ: \\mathbb{R}^1 → \\mathbb{R}$ es también una función de $t$."
      ],
      "metadata": {
        "id": "6e9nZmwm8wHE"
      }
    },
    {
      "cell_type": "code",
      "source": [
        "# Se declara el multiplicador lambda del principio del máximo\n",
        "lam = Function('lambda')(t)\n",
        "\n",
        "# Se calcula el hamiltoniano como se enseña arriba\n",
        "H = F + lam*f\n",
        "\n",
        "# Se expone el hamiltoniano del sistema\n",
        "H"
      ],
      "metadata": {
        "id": "spQB2xI-FRtS",
        "colab": {
          "base_uri": "https://localhost:8080/",
          "height": 39
        },
        "outputId": "9c0f35f8-7fcd-4700-9ec1-b570c328674f"
      },
      "execution_count": 265,
      "outputs": [
        {
          "output_type": "execute_result",
          "data": {
            "text/plain": [
              "             2          2\n",
              "(u + x)⋅λ - u  + u⋅x - x "
            ],
            "text/latex": "$\\displaystyle \\left(u + x\\right) \\lambda - u^{2} + u x - x^{2}$"
          },
          "metadata": {},
          "execution_count": 265
        }
      ]
    },
    {
      "cell_type": "markdown",
      "source": [
        "Ahora, se emplea la condición $(1)$ del principio del máximo:\n",
        "\n",
        "\\begin{align*}\n",
        "\\dot{λ} = - \\frac{\\partial H}{∂ x}\n",
        "\\end{align*}\n",
        "\n",
        "en conjunto con la condición inicial de la EDO anterior:\n",
        "\n",
        "\\begin{align*}\n",
        "\\lambda(5) = \\frac{d}{dx}S(x^*(5)) = \\frac{d}{dx}(0) = 0\n",
        "\\end{align*}\n",
        "\n",
        "La condición final es nula, dado que el problema está escrito en forma de Lagrange."
      ],
      "metadata": {
        "id": "6n0qicCX9CoS"
      }
    },
    {
      "cell_type": "code",
      "source": [
        "# Se define la primera derivada temporal de lam\n",
        "dlam = diff(lam, t)\n",
        "\n",
        "# Se establece la ecuación diferencial de la condición (1)\n",
        "neq1 = Eq(dlam, -diff(H,x))\n",
        "neq1"
      ],
      "metadata": {
        "id": "fjTzjKACGe3a",
        "colab": {
          "base_uri": "https://localhost:8080/",
          "height": 39
        },
        "outputId": "fe631017-99aa-4f27-d654-b2dc5ba0c1ea"
      },
      "execution_count": 266,
      "outputs": [
        {
          "output_type": "execute_result",
          "data": {
            "text/plain": [
              "λ̇ = -λ - u + 2⋅x"
            ],
            "text/latex": "$\\displaystyle \\dot{\\lambda} = - \\lambda - u + 2 x$"
          },
          "metadata": {},
          "execution_count": 266
        }
      ]
    },
    {
      "cell_type": "markdown",
      "source": [
        "Aún no se puede resolver esta EDO, puesto que $\\dot{λ}$ quedó en términos de $x$ y $u$, y para ello se procede con el resto del principio del máximo de Pontryagin.\n",
        "\n",
        "A continuación, se debe usar la condición $(2)$ del principio del máximo. Para ello hay que calcular:\n",
        "\n",
        "\\begin{align*}\n",
        "\\max_u H(x^*,u,\\lambda^*,t)\n",
        "\\end{align*}\n",
        "\n",
        "donde $u$ se encuentra irrestricta.\n",
        "\n",
        "Como se trata de una función univariada que se debe optimizar sin restricciones, se debe cumplir que:\n",
        "\n",
        "\\begin{align*}\n",
        "\\frac{∂H}{∂u} = 0, \\qquad \\frac{∂^2H}{∂u^2} < 0\n",
        "\\end{align*}\n",
        "\n",
        "que son las condiciones de primer y segundo orden para hallar un mínimo global.\n",
        "\n",
        "Se resuelve entonces:\n",
        "\n",
        "\\begin{align*}\n",
        "  \\max_u H = x + u + λ(1-u^2)\n",
        "\\end{align*}"
      ],
      "metadata": {
        "id": "fF-5eWK-Hd-H"
      }
    },
    {
      "cell_type": "code",
      "source": [
        "# Se escribe la condición de primer orden para optimizar u\n",
        "neq2 = Eq(diff(H,u), 0)\n",
        "neq2"
      ],
      "metadata": {
        "id": "PMM1PkH3HugN",
        "colab": {
          "base_uri": "https://localhost:8080/",
          "height": 39
        },
        "outputId": "c5f30fc5-a1c9-4a53-e637-3c5ca6ece869"
      },
      "execution_count": 267,
      "outputs": [
        {
          "output_type": "execute_result",
          "data": {
            "text/plain": [
              "λ - 2⋅u + x = 0"
            ],
            "text/latex": "$\\displaystyle \\lambda - 2 u + x = 0$"
          },
          "metadata": {},
          "execution_count": 267
        }
      ]
    },
    {
      "cell_type": "code",
      "source": [
        "# y se despeja u de la ecuación anterior\n",
        "u_aux = solve([neq2], (u))\n",
        "neq3 = Eq(u, u_aux[u])\n",
        "neq3"
      ],
      "metadata": {
        "colab": {
          "base_uri": "https://localhost:8080/",
          "height": 52
        },
        "id": "JwmBOWBC-xVf",
        "outputId": "06d3f939-2ed7-4691-b64f-7d5f30e4b26d"
      },
      "execution_count": 268,
      "outputs": [
        {
          "output_type": "execute_result",
          "data": {
            "text/plain": [
              "    λ   x\n",
              "u = ─ + ─\n",
              "    2   2"
            ],
            "text/latex": "$\\displaystyle u = \\frac{\\lambda}{2} + \\frac{x}{2}$"
          },
          "metadata": {},
          "execution_count": 268
        }
      ]
    },
    {
      "cell_type": "markdown",
      "source": [
        "Se obtuvo que\n",
        "\n",
        "\\begin{align}\n",
        "u^*(t) =\\frac{\\lambda}{2} + \\frac{x}{2}\n",
        "\\end{align}\n",
        "\n",
        "es aquella función que verifica las condiciones de primer orden para optimizar el Hamiltoniano. Se debe verificar que $u$ maximice el hamiltoniano y no lo minimice.\n",
        "\n",
        "Entonces, derivamos dos veces y aplicamos el criterio de la segunda derivada:"
      ],
      "metadata": {
        "id": "Ttv_WuQ7_B9Q"
      }
    },
    {
      "cell_type": "code",
      "source": [
        "diff(diff(H,u),u)"
      ],
      "metadata": {
        "id": "KOEYSdztxw3M",
        "colab": {
          "base_uri": "https://localhost:8080/",
          "height": 37
        },
        "outputId": "59cc1643-b53b-4078-b2c8-7af8392b9020"
      },
      "execution_count": 269,
      "outputs": [
        {
          "output_type": "execute_result",
          "data": {
            "text/plain": [
              "-2"
            ],
            "text/latex": "$\\displaystyle -2$"
          },
          "metadata": {},
          "execution_count": 269
        }
      ]
    },
    {
      "cell_type": "markdown",
      "source": [
        "Como $\\frac{∂^2H}{∂u^2} < 0$, $u$ maximiza el Hamiltoniano, y como esta función existe, el problema 3 aún es factible.\n",
        "\n",
        "Ahora, se debe usar la condición $(3)$ del principio del máximo que corresponde a resolver la EDO contemplada en la restricción del problema:\n",
        "\n",
        "\\begin{align*}\n",
        "\\dot{x}^* = f(x^*, u^*,t) = x+u\n",
        "\\end{align*}\n",
        "\n",
        "sujeta a la condición inicial $x(1)=2$."
      ],
      "metadata": {
        "id": "FvUh0AOa_mxZ"
      }
    },
    {
      "cell_type": "code",
      "source": [
        "# Usamos la restricción del problema 3\n",
        "neq4 = Eq(dx, f)\n",
        "neq4"
      ],
      "metadata": {
        "id": "WyV8ypdhIaHu",
        "colab": {
          "base_uri": "https://localhost:8080/",
          "height": 39
        },
        "outputId": "0de97373-5fe0-4a4b-d993-e0f7aab013b4"
      },
      "execution_count": 270,
      "outputs": [
        {
          "output_type": "execute_result",
          "data": {
            "text/plain": [
              "ẋ = u + x"
            ],
            "text/latex": "$\\displaystyle \\dot{x} = u + x$"
          },
          "metadata": {},
          "execution_count": 270
        }
      ]
    },
    {
      "cell_type": "code",
      "source": [
        "# Se sustituye la u hallada en el numeral anterior\n",
        "neq5 = neq4.subs(u_aux)\n",
        "neq5"
      ],
      "metadata": {
        "colab": {
          "base_uri": "https://localhost:8080/",
          "height": 52
        },
        "id": "nnZTFS03BqmW",
        "outputId": "6c86abb4-21ad-47d5-f9ee-b89cf3444beb"
      },
      "execution_count": 271,
      "outputs": [
        {
          "output_type": "execute_result",
          "data": {
            "text/plain": [
              "    λ   3⋅x\n",
              "ẋ = ─ + ───\n",
              "    2    2 "
            ],
            "text/latex": "$\\displaystyle \\dot{x} = \\frac{\\lambda}{2} + \\frac{3 x}{2}$"
          },
          "metadata": {},
          "execution_count": 271
        }
      ]
    },
    {
      "cell_type": "code",
      "source": [
        "# y sustituimos u en la ecuación para \\dot{lam}\n",
        "neq6 = neq1.subs(u_aux)\n",
        "neq6"
      ],
      "metadata": {
        "id": "LEmc40qXxosq",
        "colab": {
          "base_uri": "https://localhost:8080/",
          "height": 52
        },
        "outputId": "457ecd95-575a-4706-ba63-588b842b19f7"
      },
      "execution_count": 272,
      "outputs": [
        {
          "output_type": "execute_result",
          "data": {
            "text/plain": [
              "      3⋅λ   3⋅x\n",
              "λ̇ = - ─── + ───\n",
              "       2     2 "
            ],
            "text/latex": "$\\displaystyle \\dot{\\lambda} = - \\frac{3 \\lambda}{2} + \\frac{3 x}{2}$"
          },
          "metadata": {},
          "execution_count": 272
        }
      ]
    },
    {
      "cell_type": "markdown",
      "source": [
        "En este punto, a partir de las condiciones $(1)$ y $(3)$ del principio del máximo y habiendo reemplazado $u^*(t) =\\frac{\\lambda}{2} + \\frac{x}{2}\n",
        "$ en ambas, se obtiene el sistema de EDOs de primer orden:\n",
        "\n",
        "\\begin{gather*}\n",
        "\\frac{d}{d t} \\lambda{\\left(t \\right)} = - \\frac{3 \\lambda{\\left(t \\right)}}{2} + \\frac{3 x{\\left(t \\right)}}{2}\\\\\n",
        "\\frac{d}{d t} x{\\left(t \\right)} = \\frac{\\lambda{\\left(t \\right)}}{2} + \\frac{3\n",
        "x{\\left(t \\right)}}{2}\n",
        "\\end{gather*}\n",
        "\n",
        "Sujeto a las condiciones de contorno:\n",
        "\n",
        "\\begin{align}\n",
        "x(1) = 2, \\quad λ(5) = 0\n",
        "\\end{align}\n",
        "\n",
        "Se resuelve este sistema de EDOs mediante el comando dsolve de Sympy."
      ],
      "metadata": {
        "id": "RV5HWdskCMhW"
      }
    },
    {
      "cell_type": "code",
      "source": [
        "# Se escriben las condiciones de contorno como un diccionario\n",
        "kcs={x.subs(t,1): 2, lam.subs(t,5): 0}\n",
        "kcs"
      ],
      "metadata": {
        "colab": {
          "base_uri": "https://localhost:8080/",
          "height": 39
        },
        "id": "5_hTXmUWDzA_",
        "outputId": "81e6ce32-a04c-4733-bfca-65aa2399c4d2"
      },
      "execution_count": 273,
      "outputs": [
        {
          "output_type": "execute_result",
          "data": {
            "text/plain": [
              "{λ(5): 0, x(1): 2}"
            ],
            "text/latex": "$\\displaystyle \\left\\{ \\lambda{\\left(5 \\right)} : 0, \\  x{\\left(1 \\right)} : 2\\right\\}$"
          },
          "metadata": {},
          "execution_count": 273
        }
      ]
    },
    {
      "cell_type": "code",
      "source": [
        "# Se soluciona el sistema de EDOs con las condiciones de frontera anteriores\n",
        "slnn = dsolve_system([neq5, neq6], ics=kcs)\n",
        "sln_x3 = slnn[0][0].doit().simplify()\n",
        "sln_lam3 = slnn[0][1].doit().simplify()\n",
        "\n",
        "# Se enseña la solución para x\n",
        "display(sln_x3)"
      ],
      "metadata": {
        "colab": {
          "base_uri": "https://localhost:8080/",
          "height": 69
        },
        "id": "XsPq1y3AEN4q",
        "outputId": "d28daffc-b088-4765-e3e8-9b4b1afbef46"
      },
      "execution_count": 243,
      "outputs": [
        {
          "output_type": "display_data",
          "data": {
            "text/plain": [
              "      ⎛⎛          8⋅√3      8⋅√3⎞  2⋅√3⋅t   ⎛             8⋅√3⎞  10⋅√3⎞  -√3⋅(\n",
              "    2⋅⎝⎝1 + 4⋅√3⋅ℯ     + 7⋅ℯ    ⎠⋅ℯ       + ⎝-4⋅√3 + 7 + ℯ    ⎠⋅ℯ     ⎠⋅ℯ     \n",
              "x = ──────────────────────────────────────────────────────────────────────────\n",
              "                                         8⋅√3    16⋅√3                        \n",
              "                                 1 + 14⋅ℯ     + ℯ                             \n",
              "\n",
              "t + 1)\n",
              "      \n",
              "──────\n",
              "      \n",
              "      "
            ],
            "text/latex": "$\\displaystyle x = \\frac{2 \\left(\\left(1 + 4 \\sqrt{3} e^{8 \\sqrt{3}} + 7 e^{8 \\sqrt{3}}\\right) e^{2 \\sqrt{3} t} + \\left(- 4 \\sqrt{3} + 7 + e^{8 \\sqrt{3}}\\right) e^{10 \\sqrt{3}}\\right) e^{- \\sqrt{3} \\left(t + 1\\right)}}{1 + 14 e^{8 \\sqrt{3}} + e^{16 \\sqrt{3}}}$"
          },
          "metadata": {}
        }
      ]
    },
    {
      "cell_type": "code",
      "source": [
        "# Se enseña la solución para lambda\n",
        "display(sln_lam3)"
      ],
      "metadata": {
        "colab": {
          "base_uri": "https://localhost:8080/",
          "height": 69
        },
        "id": "kSCLQq9-GQru",
        "outputId": "00d4bfb1-e898-4c9c-a96b-58d847ea961d"
      },
      "execution_count": 274,
      "outputs": [
        {
          "output_type": "display_data",
          "data": {
            "text/plain": [
              "      ⎛⎛               8⋅√3         8⋅√3⎞  2⋅√3⋅t   ⎛       ⎛        8⋅√3    1\n",
              "    2⋅⎝⎝-3 + 2⋅√3 + 3⋅ℯ     + 2⋅√3⋅ℯ    ⎠⋅ℯ       + ⎝- 2⋅√3⋅⎝1 + 14⋅ℯ     + ℯ \n",
              "λ = ──────────────────────────────────────────────────────────────────────────\n",
              "                                                                        8⋅√3  \n",
              "                                                                1 + 14⋅ℯ     +\n",
              "\n",
              "6⋅√3⎞      16⋅√3             8⋅√3          8⋅√3⎞  2⋅√3⎞  -√3⋅(t + 1)\n",
              "    ⎠ - 3⋅ℯ      + 2⋅√3 + 3⋅ℯ     + 26⋅√3⋅ℯ    ⎠⋅ℯ    ⎠⋅ℯ           \n",
              "────────────────────────────────────────────────────────────────────\n",
              "  16⋅√3                                                             \n",
              " ℯ                                                                  "
            ],
            "text/latex": "$\\displaystyle \\lambda = \\frac{2 \\left(\\left(-3 + 2 \\sqrt{3} + 3 e^{8 \\sqrt{3}} + 2 \\sqrt{3} e^{8 \\sqrt{3}}\\right) e^{2 \\sqrt{3} t} + \\left(- 2 \\sqrt{3} \\cdot \\left(1 + 14 e^{8 \\sqrt{3}} + e^{16 \\sqrt{3}}\\right) - 3 e^{16 \\sqrt{3}} + 2 \\sqrt{3} + 3 e^{8 \\sqrt{3}} + 26 \\sqrt{3} e^{8 \\sqrt{3}}\\right) e^{2 \\sqrt{3}}\\right) e^{- \\sqrt{3} \\left(t + 1\\right)}}{1 + 14 e^{8 \\sqrt{3}} + e^{16 \\sqrt{3}}}$"
          },
          "metadata": {}
        }
      ]
    },
    {
      "cell_type": "markdown",
      "source": [
        "Finalmente, el control óptimo $u^*$ se halla como:\n",
        "\n",
        "\\begin{align}\n",
        "u^*(t) = \\frac{1}{2} [x^*(t) + λ^*(t)]\n",
        "\\end{align}\n",
        "\n",
        "reemplazando estas dos expresiones obtenidas para la trayectoria y el multiplicador óptimos se obtiene:"
      ],
      "metadata": {
        "id": "0Q7T_kH4GXFC"
      }
    },
    {
      "cell_type": "code",
      "source": [
        "neq3.subs({x: sln_x3.rhs, lam: sln_lam3.rhs})"
      ],
      "metadata": {
        "colab": {
          "base_uri": "https://localhost:8080/",
          "height": 122
        },
        "id": "YS5PP77hGuoR",
        "outputId": "43907c35-3626-438c-f171-26c2f326869d"
      },
      "execution_count": 276,
      "outputs": [
        {
          "output_type": "execute_result",
          "data": {
            "text/plain": [
              "    ⎛⎛          8⋅√3      8⋅√3⎞  2⋅√3⋅t   ⎛             8⋅√3⎞  10⋅√3⎞  -√3⋅(t \n",
              "    ⎝⎝1 + 4⋅√3⋅ℯ     + 7⋅ℯ    ⎠⋅ℯ       + ⎝-4⋅√3 + 7 + ℯ    ⎠⋅ℯ     ⎠⋅ℯ       \n",
              "u = ──────────────────────────────────────────────────────────────────────────\n",
              "                                        8⋅√3    16⋅√3                         \n",
              "                                1 + 14⋅ℯ     + ℯ                              \n",
              "\n",
              "+ 1)   ⎛⎛               8⋅√3         8⋅√3⎞  2⋅√3⋅t   ⎛       ⎛        8⋅√3    \n",
              "       ⎝⎝-3 + 2⋅√3 + 3⋅ℯ     + 2⋅√3⋅ℯ    ⎠⋅ℯ       + ⎝- 2⋅√3⋅⎝1 + 14⋅ℯ     + ℯ\n",
              "──── + ───────────────────────────────────────────────────────────────────────\n",
              "                                                                          8⋅√3\n",
              "                                                                  1 + 14⋅ℯ    \n",
              "\n",
              "16⋅√3⎞      16⋅√3             8⋅√3          8⋅√3⎞  2⋅√3⎞  -√3⋅(t + 1)\n",
              "     ⎠ - 3⋅ℯ      + 2⋅√3 + 3⋅ℯ     + 26⋅√3⋅ℯ    ⎠⋅ℯ    ⎠⋅ℯ           \n",
              "─────────────────────────────────────────────────────────────────────\n",
              "    16⋅√3                                                            \n",
              " + ℯ                                                                 "
            ],
            "text/latex": "$\\displaystyle u = \\frac{\\left(\\left(1 + 4 \\sqrt{3} e^{8 \\sqrt{3}} + 7 e^{8 \\sqrt{3}}\\right) e^{2 \\sqrt{3} t} + \\left(- 4 \\sqrt{3} + 7 + e^{8 \\sqrt{3}}\\right) e^{10 \\sqrt{3}}\\right) e^{- \\sqrt{3} \\left(t + 1\\right)}}{1 + 14 e^{8 \\sqrt{3}} + e^{16 \\sqrt{3}}} + \\frac{\\left(\\left(-3 + 2 \\sqrt{3} + 3 e^{8 \\sqrt{3}} + 2 \\sqrt{3} e^{8 \\sqrt{3}}\\right) e^{2 \\sqrt{3} t} + \\left(- 2 \\sqrt{3} \\cdot \\left(1 + 14 e^{8 \\sqrt{3}} + e^{16 \\sqrt{3}}\\right) - 3 e^{16 \\sqrt{3}} + 2 \\sqrt{3} + 3 e^{8 \\sqrt{3}} + 26 \\sqrt{3} e^{8 \\sqrt{3}}\\right) e^{2 \\sqrt{3}}\\right) e^{- \\sqrt{3} \\left(t + 1\\right)}}{1 + 14 e^{8 \\sqrt{3}} + e^{16 \\sqrt{3}}}$"
          },
          "metadata": {},
          "execution_count": 276
        }
      ]
    },
    {
      "cell_type": "markdown",
      "source": [
        "que es el control óptimo de la planta."
      ],
      "metadata": {
        "id": "NxhE0XX3HNcd"
      }
    }
  ]
}